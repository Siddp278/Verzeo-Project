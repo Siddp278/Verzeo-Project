{
 "cells": [
  {
   "cell_type": "code",
   "execution_count": 11,
   "metadata": {},
   "outputs": [
    {
     "data": {
      "text/plain": [
       "True"
      ]
     },
     "execution_count": 11,
     "metadata": {},
     "output_type": "execute_result"
    }
   ],
   "source": [
    "import os\n",
    "os.path.isfile(r\"C:\\Users\\KIIT\\Desktop\\Machine Learning\\All Data files(excel sheets)\\Customer_DF.csv\")\n",
    "os.path.isfile(r\"C:\\Users\\KIIT\\Desktop\\Machine Learning\\All Data files(excel sheets)\\cust_transaction_details.csv\")"
   ]
  },
  {
   "cell_type": "code",
   "execution_count": 12,
   "metadata": {},
   "outputs": [
    {
     "data": {
      "text/plain": [
       "True"
      ]
     },
     "execution_count": 12,
     "metadata": {},
     "output_type": "execute_result"
    }
   ],
   "source": [
    "os.path.isfile(r\"C:\\Users\\KIIT\\Desktop\\Machine Learning\\All Data files(excel sheets)\\Customer_DF.csv\")\n"
   ]
  },
  {
   "cell_type": "code",
   "execution_count": 13,
   "metadata": {},
   "outputs": [],
   "source": [
    "import pandas as pd\n",
    "import numpy as np\n",
    "from sklearn import preprocessing\n",
    "import matplotlib.pyplot as plt \n",
    "from sklearn.linear_model import LogisticRegression\n",
    "from sklearn.model_selection import train_test_split\n"
   ]
  },
  {
   "cell_type": "code",
   "execution_count": 14,
   "metadata": {},
   "outputs": [],
   "source": [
    "d = pd.read_csv(r\"C:\\Users\\KIIT\\Desktop\\Machine Learning\\All Data files(excel sheets)\\Customer_DF.csv\")\n",
    "Data = pd.DataFrame(d)"
   ]
  },
  {
   "cell_type": "code",
   "execution_count": 15,
   "metadata": {},
   "outputs": [
    {
     "data": {
      "text/plain": [
       "(161, 10)"
      ]
     },
     "execution_count": 15,
     "metadata": {},
     "output_type": "execute_result"
    }
   ],
   "source": [
    "Data1 = Data.drop_duplicates(subset = ['customerEmail'], keep = 'first')\n",
    "Data1.shape"
   ]
  },
  {
   "cell_type": "code",
   "execution_count": 16,
   "metadata": {},
   "outputs": [
    {
     "data": {
      "text/plain": [
       "(623, 11)"
      ]
     },
     "execution_count": 16,
     "metadata": {},
     "output_type": "execute_result"
    }
   ],
   "source": [
    "p = pd.read_csv(r\"C:\\Users\\KIIT\\Desktop\\Machine Learning\\All Data files(excel sheets)\\cust_transaction_details.csv\")\n",
    "T= pd.DataFrame(p)\n",
    "T.shape"
   ]
  },
  {
   "cell_type": "code",
   "execution_count": 17,
   "metadata": {},
   "outputs": [
    {
     "data": {
      "text/plain": [
       "(136, 11)"
      ]
     },
     "execution_count": 17,
     "metadata": {},
     "output_type": "execute_result"
    }
   ],
   "source": [
    "T1 = T.drop_duplicates(subset = ['customerEmail'], keep = 'first')\n",
    "T1.shape"
   ]
  },
  {
   "cell_type": "code",
   "execution_count": 24,
   "metadata": {},
   "outputs": [],
   "source": [
    "H = pd.merge(Data1, T1, on = 'customerEmail', how = 'left')\n"
   ]
  },
  {
   "cell_type": "code",
   "execution_count": 26,
   "metadata": {},
   "outputs": [
    {
     "data": {
      "text/plain": [
       "Unnamed: 0_x                         0\n",
       "customerEmail                        0\n",
       "customerPhone                        0\n",
       "customerDevice                       0\n",
       "customerIPAddress                    0\n",
       "customerBillingAddress               0\n",
       "No_Transactions                      0\n",
       "No_Orders                            0\n",
       "No_Payments                          0\n",
       "Fraud                                0\n",
       "Unnamed: 0_y                        25\n",
       "transactionId                       25\n",
       "orderId                             25\n",
       "paymentMethodId                     25\n",
       "paymentMethodRegistrationFailure    25\n",
       "paymentMethodType                   25\n",
       "paymentMethodProvider               25\n",
       "transactionAmount                   25\n",
       "transactionFailed                   25\n",
       "y                                   25\n",
       "dtype: int64"
      ]
     },
     "execution_count": 26,
     "metadata": {},
     "output_type": "execute_result"
    }
   ],
   "source": [
    "H.isnull().sum()"
   ]
  },
  {
   "cell_type": "code",
   "execution_count": 29,
   "metadata": {},
   "outputs": [
    {
     "data": {
      "text/plain": [
       "(136, 20)"
      ]
     },
     "execution_count": 29,
     "metadata": {},
     "output_type": "execute_result"
    }
   ],
   "source": [
    "H1 = H[H['y'].notna()]\n",
    "H1.shape"
   ]
  },
  {
   "cell_type": "code",
   "execution_count": 32,
   "metadata": {},
   "outputs": [
    {
     "data": {
      "text/html": [
       "<div>\n",
       "<style scoped>\n",
       "    .dataframe tbody tr th:only-of-type {\n",
       "        vertical-align: middle;\n",
       "    }\n",
       "\n",
       "    .dataframe tbody tr th {\n",
       "        vertical-align: top;\n",
       "    }\n",
       "\n",
       "    .dataframe thead th {\n",
       "        text-align: right;\n",
       "    }\n",
       "</style>\n",
       "<table border=\"1\" class=\"dataframe\">\n",
       "  <thead>\n",
       "    <tr style=\"text-align: right;\">\n",
       "      <th></th>\n",
       "      <th>Unnamed: 0_x</th>\n",
       "      <th>No_Transactions</th>\n",
       "      <th>No_Orders</th>\n",
       "      <th>No_Payments</th>\n",
       "      <th>Fraud</th>\n",
       "      <th>Unnamed: 0_y</th>\n",
       "      <th>paymentMethodRegistrationFailure</th>\n",
       "      <th>paymentMethodType</th>\n",
       "      <th>paymentMethodProvider</th>\n",
       "      <th>transactionAmount</th>\n",
       "      <th>transactionFailed</th>\n",
       "      <th>y</th>\n",
       "    </tr>\n",
       "  </thead>\n",
       "  <tbody>\n",
       "    <tr>\n",
       "      <th>0</th>\n",
       "      <td>0</td>\n",
       "      <td>2</td>\n",
       "      <td>2</td>\n",
       "      <td>1</td>\n",
       "      <td>False</td>\n",
       "      <td>0.0</td>\n",
       "      <td>1.0</td>\n",
       "      <td>card</td>\n",
       "      <td>JCB 16 digit</td>\n",
       "      <td>18.0</td>\n",
       "      <td>0.0</td>\n",
       "      <td>pending</td>\n",
       "    </tr>\n",
       "    <tr>\n",
       "      <th>1</th>\n",
       "      <td>1</td>\n",
       "      <td>3</td>\n",
       "      <td>3</td>\n",
       "      <td>7</td>\n",
       "      <td>True</td>\n",
       "      <td>2.0</td>\n",
       "      <td>0.0</td>\n",
       "      <td>bitcoin</td>\n",
       "      <td>American Express</td>\n",
       "      <td>45.0</td>\n",
       "      <td>0.0</td>\n",
       "      <td>fulfilled</td>\n",
       "    </tr>\n",
       "    <tr>\n",
       "      <th>2</th>\n",
       "      <td>2</td>\n",
       "      <td>5</td>\n",
       "      <td>3</td>\n",
       "      <td>2</td>\n",
       "      <td>False</td>\n",
       "      <td>5.0</td>\n",
       "      <td>0.0</td>\n",
       "      <td>card</td>\n",
       "      <td>JCB 16 digit</td>\n",
       "      <td>33.0</td>\n",
       "      <td>0.0</td>\n",
       "      <td>failed</td>\n",
       "    </tr>\n",
       "    <tr>\n",
       "      <th>3</th>\n",
       "      <td>3</td>\n",
       "      <td>3</td>\n",
       "      <td>3</td>\n",
       "      <td>1</td>\n",
       "      <td>False</td>\n",
       "      <td>10.0</td>\n",
       "      <td>0.0</td>\n",
       "      <td>card</td>\n",
       "      <td>Voyager</td>\n",
       "      <td>34.0</td>\n",
       "      <td>0.0</td>\n",
       "      <td>fulfilled</td>\n",
       "    </tr>\n",
       "    <tr>\n",
       "      <th>4</th>\n",
       "      <td>4</td>\n",
       "      <td>7</td>\n",
       "      <td>7</td>\n",
       "      <td>6</td>\n",
       "      <td>True</td>\n",
       "      <td>13.0</td>\n",
       "      <td>0.0</td>\n",
       "      <td>card</td>\n",
       "      <td>VISA 13 digit</td>\n",
       "      <td>71.0</td>\n",
       "      <td>0.0</td>\n",
       "      <td>fulfilled</td>\n",
       "    </tr>\n",
       "  </tbody>\n",
       "</table>\n",
       "</div>"
      ],
      "text/plain": [
       "   Unnamed: 0_x  No_Transactions  No_Orders  No_Payments  Fraud  Unnamed: 0_y  \\\n",
       "0             0                2          2            1  False           0.0   \n",
       "1             1                3          3            7   True           2.0   \n",
       "2             2                5          3            2  False           5.0   \n",
       "3             3                3          3            1  False          10.0   \n",
       "4             4                7          7            6   True          13.0   \n",
       "\n",
       "   paymentMethodRegistrationFailure paymentMethodType paymentMethodProvider  \\\n",
       "0                               1.0              card          JCB 16 digit   \n",
       "1                               0.0           bitcoin      American Express   \n",
       "2                               0.0              card          JCB 16 digit   \n",
       "3                               0.0              card               Voyager   \n",
       "4                               0.0              card         VISA 13 digit   \n",
       "\n",
       "   transactionAmount  transactionFailed          y  \n",
       "0               18.0                0.0    pending  \n",
       "1               45.0                0.0  fulfilled  \n",
       "2               33.0                0.0     failed  \n",
       "3               34.0                0.0  fulfilled  \n",
       "4               71.0                0.0  fulfilled  "
      ]
     },
     "execution_count": 32,
     "metadata": {},
     "output_type": "execute_result"
    }
   ],
   "source": [
    "#Too many Columns.\n",
    "H2 = H1.drop(['customerEmail', 'customerPhone', 'customerDevice', 'customerIPAddress', 'customerBillingAddress', 'transactionId', 'orderId', 'paymentMethodId'], axis = 1)\n",
    "H2.head()"
   ]
  },
  {
   "cell_type": "code",
   "execution_count": 34,
   "metadata": {},
   "outputs": [],
   "source": [
    "#Unnamed: 0_y\n",
    "H3 =H2.drop(['Unnamed: 0_y', 'Unnamed: 0_x'], axis =1)"
   ]
  },
  {
   "cell_type": "code",
   "execution_count": 37,
   "metadata": {},
   "outputs": [
    {
     "data": {
      "text/plain": [
       "array(['card', 'bitcoin', 'apple pay', 'paypal'], dtype=object)"
      ]
     },
     "execution_count": 37,
     "metadata": {},
     "output_type": "execute_result"
    }
   ],
   "source": [
    "H3['paymentMethodType'].unique()"
   ]
  },
  {
   "cell_type": "code",
   "execution_count": 38,
   "metadata": {},
   "outputs": [
    {
     "data": {
      "text/plain": [
       "array(['JCB 16 digit', 'American Express', 'Voyager', 'VISA 13 digit',\n",
       "       'VISA 16 digit', 'Discover', 'Mastercard',\n",
       "       'Diners Club / Carte Blanche', 'Maestro', 'JCB 15 digit'],\n",
       "      dtype=object)"
      ]
     },
     "execution_count": 38,
     "metadata": {},
     "output_type": "execute_result"
    }
   ],
   "source": [
    "H3['paymentMethodProvider'].unique()"
   ]
  },
  {
   "cell_type": "code",
   "execution_count": 46,
   "metadata": {},
   "outputs": [],
   "source": [
    "one_hot_sex = pd.get_dummies(H3['paymentMethodType'])\n",
    "one_hot_sex1 = pd.get_dummies(H3['y'])"
   ]
  },
  {
   "cell_type": "code",
   "execution_count": 48,
   "metadata": {},
   "outputs": [],
   "source": [
    "H5 = H3.drop(columns = ['y'], axis = 1)\n",
    "\n",
    "# Join the encoded df\n",
    "H6 = H5.join(one_hot_sex).join(one_hot_sex1)"
   ]
  },
  {
   "cell_type": "code",
   "execution_count": 49,
   "metadata": {},
   "outputs": [
    {
     "data": {
      "text/html": [
       "<div>\n",
       "<style scoped>\n",
       "    .dataframe tbody tr th:only-of-type {\n",
       "        vertical-align: middle;\n",
       "    }\n",
       "\n",
       "    .dataframe tbody tr th {\n",
       "        vertical-align: top;\n",
       "    }\n",
       "\n",
       "    .dataframe thead th {\n",
       "        text-align: right;\n",
       "    }\n",
       "</style>\n",
       "<table border=\"1\" class=\"dataframe\">\n",
       "  <thead>\n",
       "    <tr style=\"text-align: right;\">\n",
       "      <th></th>\n",
       "      <th>No_Transactions</th>\n",
       "      <th>No_Orders</th>\n",
       "      <th>No_Payments</th>\n",
       "      <th>Fraud</th>\n",
       "      <th>paymentMethodRegistrationFailure</th>\n",
       "      <th>paymentMethodType</th>\n",
       "      <th>paymentMethodProvider</th>\n",
       "      <th>transactionAmount</th>\n",
       "      <th>transactionFailed</th>\n",
       "      <th>apple pay</th>\n",
       "      <th>bitcoin</th>\n",
       "      <th>card</th>\n",
       "      <th>paypal</th>\n",
       "      <th>failed</th>\n",
       "      <th>fulfilled</th>\n",
       "      <th>pending</th>\n",
       "    </tr>\n",
       "  </thead>\n",
       "  <tbody>\n",
       "    <tr>\n",
       "      <th>0</th>\n",
       "      <td>2</td>\n",
       "      <td>2</td>\n",
       "      <td>1</td>\n",
       "      <td>False</td>\n",
       "      <td>1.0</td>\n",
       "      <td>card</td>\n",
       "      <td>JCB 16 digit</td>\n",
       "      <td>18.0</td>\n",
       "      <td>0.0</td>\n",
       "      <td>0</td>\n",
       "      <td>0</td>\n",
       "      <td>1</td>\n",
       "      <td>0</td>\n",
       "      <td>0</td>\n",
       "      <td>0</td>\n",
       "      <td>1</td>\n",
       "    </tr>\n",
       "    <tr>\n",
       "      <th>1</th>\n",
       "      <td>3</td>\n",
       "      <td>3</td>\n",
       "      <td>7</td>\n",
       "      <td>True</td>\n",
       "      <td>0.0</td>\n",
       "      <td>bitcoin</td>\n",
       "      <td>American Express</td>\n",
       "      <td>45.0</td>\n",
       "      <td>0.0</td>\n",
       "      <td>0</td>\n",
       "      <td>1</td>\n",
       "      <td>0</td>\n",
       "      <td>0</td>\n",
       "      <td>0</td>\n",
       "      <td>1</td>\n",
       "      <td>0</td>\n",
       "    </tr>\n",
       "    <tr>\n",
       "      <th>2</th>\n",
       "      <td>5</td>\n",
       "      <td>3</td>\n",
       "      <td>2</td>\n",
       "      <td>False</td>\n",
       "      <td>0.0</td>\n",
       "      <td>card</td>\n",
       "      <td>JCB 16 digit</td>\n",
       "      <td>33.0</td>\n",
       "      <td>0.0</td>\n",
       "      <td>0</td>\n",
       "      <td>0</td>\n",
       "      <td>1</td>\n",
       "      <td>0</td>\n",
       "      <td>1</td>\n",
       "      <td>0</td>\n",
       "      <td>0</td>\n",
       "    </tr>\n",
       "    <tr>\n",
       "      <th>3</th>\n",
       "      <td>3</td>\n",
       "      <td>3</td>\n",
       "      <td>1</td>\n",
       "      <td>False</td>\n",
       "      <td>0.0</td>\n",
       "      <td>card</td>\n",
       "      <td>Voyager</td>\n",
       "      <td>34.0</td>\n",
       "      <td>0.0</td>\n",
       "      <td>0</td>\n",
       "      <td>0</td>\n",
       "      <td>1</td>\n",
       "      <td>0</td>\n",
       "      <td>0</td>\n",
       "      <td>1</td>\n",
       "      <td>0</td>\n",
       "    </tr>\n",
       "    <tr>\n",
       "      <th>4</th>\n",
       "      <td>7</td>\n",
       "      <td>7</td>\n",
       "      <td>6</td>\n",
       "      <td>True</td>\n",
       "      <td>0.0</td>\n",
       "      <td>card</td>\n",
       "      <td>VISA 13 digit</td>\n",
       "      <td>71.0</td>\n",
       "      <td>0.0</td>\n",
       "      <td>0</td>\n",
       "      <td>0</td>\n",
       "      <td>1</td>\n",
       "      <td>0</td>\n",
       "      <td>0</td>\n",
       "      <td>1</td>\n",
       "      <td>0</td>\n",
       "    </tr>\n",
       "  </tbody>\n",
       "</table>\n",
       "</div>"
      ],
      "text/plain": [
       "   No_Transactions  No_Orders  No_Payments  Fraud  \\\n",
       "0                2          2            1  False   \n",
       "1                3          3            7   True   \n",
       "2                5          3            2  False   \n",
       "3                3          3            1  False   \n",
       "4                7          7            6   True   \n",
       "\n",
       "   paymentMethodRegistrationFailure paymentMethodType paymentMethodProvider  \\\n",
       "0                               1.0              card          JCB 16 digit   \n",
       "1                               0.0           bitcoin      American Express   \n",
       "2                               0.0              card          JCB 16 digit   \n",
       "3                               0.0              card               Voyager   \n",
       "4                               0.0              card         VISA 13 digit   \n",
       "\n",
       "   transactionAmount  transactionFailed  apple pay  bitcoin  card  paypal  \\\n",
       "0               18.0                0.0          0        0     1       0   \n",
       "1               45.0                0.0          0        1     0       0   \n",
       "2               33.0                0.0          0        0     1       0   \n",
       "3               34.0                0.0          0        0     1       0   \n",
       "4               71.0                0.0          0        0     1       0   \n",
       "\n",
       "   failed  fulfilled  pending  \n",
       "0       0          0        1  \n",
       "1       0          1        0  \n",
       "2       1          0        0  \n",
       "3       0          1        0  \n",
       "4       0          1        0  "
      ]
     },
     "execution_count": 49,
     "metadata": {},
     "output_type": "execute_result"
    }
   ],
   "source": [
    "H6.head()"
   ]
  },
  {
   "cell_type": "code",
   "execution_count": 50,
   "metadata": {},
   "outputs": [],
   "source": [
    "H6 = H6.drop(['paymentMethodProvider'], axis = 1)"
   ]
  },
  {
   "cell_type": "code",
   "execution_count": 59,
   "metadata": {},
   "outputs": [],
   "source": [
    "H6 = H6.drop(['paymentMethodType'], axis = 1)"
   ]
  },
  {
   "cell_type": "code",
   "execution_count": 66,
   "metadata": {},
   "outputs": [],
   "source": [
    "#H7['Fraud'].replace({\"True\":1, \"False\":0})"
   ]
  },
  {
   "cell_type": "code",
   "execution_count": 67,
   "metadata": {},
   "outputs": [
    {
     "data": {
      "text/plain": [
       "(136, 14)"
      ]
     },
     "execution_count": 67,
     "metadata": {},
     "output_type": "execute_result"
    }
   ],
   "source": [
    "H7.shape"
   ]
  },
  {
   "cell_type": "code",
   "execution_count": 75,
   "metadata": {},
   "outputs": [],
   "source": [
    "from sklearn.preprocessing import StandardScaler\n",
    "sc = StandardScaler()\n",
    "H8 = H7.drop('Fraud', axis = 1)\n",
    "X_standard = pd.DataFrame(sc.fit_transform(H8))"
   ]
  },
  {
   "cell_type": "code",
   "execution_count": 76,
   "metadata": {},
   "outputs": [],
   "source": [
    "from sklearn.decomposition import PCA \n",
    "  \n",
    "pca = PCA(n_components = 2) \n",
    "X_PCA = pca.fit_transform(H8) \n",
    "  \n",
    "explained_variance = pca.explained_variance_ratio_ "
   ]
  },
  {
   "cell_type": "code",
   "execution_count": 71,
   "metadata": {},
   "outputs": [],
   "source": [
    "#LogisticRegression(C=0.001, class_weight=None, dual=False,fit_intercept=True, intercept_scaling=1,l1_ratio=None, max_iter=100,\n",
    "#multi_class='warn', n_jobs=None, penalty='l2', random_state=1, solver='warn', tol=0.0001, verbose=0, warm_start=False)]],"
   ]
  },
  {
   "cell_type": "code",
   "execution_count": 77,
   "metadata": {},
   "outputs": [
    {
     "data": {
      "text/html": [
       "<div>\n",
       "<style scoped>\n",
       "    .dataframe tbody tr th:only-of-type {\n",
       "        vertical-align: middle;\n",
       "    }\n",
       "\n",
       "    .dataframe tbody tr th {\n",
       "        vertical-align: top;\n",
       "    }\n",
       "\n",
       "    .dataframe thead th {\n",
       "        text-align: right;\n",
       "    }\n",
       "</style>\n",
       "<table border=\"1\" class=\"dataframe\">\n",
       "  <thead>\n",
       "    <tr style=\"text-align: right;\">\n",
       "      <th></th>\n",
       "      <th>No_Transactions</th>\n",
       "      <th>No_Orders</th>\n",
       "      <th>No_Payments</th>\n",
       "      <th>paymentMethodRegistrationFailure</th>\n",
       "      <th>transactionAmount</th>\n",
       "      <th>transactionFailed</th>\n",
       "      <th>apple pay</th>\n",
       "      <th>bitcoin</th>\n",
       "      <th>card</th>\n",
       "      <th>paypal</th>\n",
       "      <th>failed</th>\n",
       "      <th>fulfilled</th>\n",
       "      <th>pending</th>\n",
       "    </tr>\n",
       "  </thead>\n",
       "  <tbody>\n",
       "    <tr>\n",
       "      <th>0</th>\n",
       "      <td>2</td>\n",
       "      <td>2</td>\n",
       "      <td>1</td>\n",
       "      <td>1.0</td>\n",
       "      <td>18.0</td>\n",
       "      <td>0.0</td>\n",
       "      <td>0</td>\n",
       "      <td>0</td>\n",
       "      <td>1</td>\n",
       "      <td>0</td>\n",
       "      <td>0</td>\n",
       "      <td>0</td>\n",
       "      <td>1</td>\n",
       "    </tr>\n",
       "    <tr>\n",
       "      <th>1</th>\n",
       "      <td>3</td>\n",
       "      <td>3</td>\n",
       "      <td>7</td>\n",
       "      <td>0.0</td>\n",
       "      <td>45.0</td>\n",
       "      <td>0.0</td>\n",
       "      <td>0</td>\n",
       "      <td>1</td>\n",
       "      <td>0</td>\n",
       "      <td>0</td>\n",
       "      <td>0</td>\n",
       "      <td>1</td>\n",
       "      <td>0</td>\n",
       "    </tr>\n",
       "    <tr>\n",
       "      <th>2</th>\n",
       "      <td>5</td>\n",
       "      <td>3</td>\n",
       "      <td>2</td>\n",
       "      <td>0.0</td>\n",
       "      <td>33.0</td>\n",
       "      <td>0.0</td>\n",
       "      <td>0</td>\n",
       "      <td>0</td>\n",
       "      <td>1</td>\n",
       "      <td>0</td>\n",
       "      <td>1</td>\n",
       "      <td>0</td>\n",
       "      <td>0</td>\n",
       "    </tr>\n",
       "    <tr>\n",
       "      <th>3</th>\n",
       "      <td>3</td>\n",
       "      <td>3</td>\n",
       "      <td>1</td>\n",
       "      <td>0.0</td>\n",
       "      <td>34.0</td>\n",
       "      <td>0.0</td>\n",
       "      <td>0</td>\n",
       "      <td>0</td>\n",
       "      <td>1</td>\n",
       "      <td>0</td>\n",
       "      <td>0</td>\n",
       "      <td>1</td>\n",
       "      <td>0</td>\n",
       "    </tr>\n",
       "    <tr>\n",
       "      <th>4</th>\n",
       "      <td>7</td>\n",
       "      <td>7</td>\n",
       "      <td>6</td>\n",
       "      <td>0.0</td>\n",
       "      <td>71.0</td>\n",
       "      <td>0.0</td>\n",
       "      <td>0</td>\n",
       "      <td>0</td>\n",
       "      <td>1</td>\n",
       "      <td>0</td>\n",
       "      <td>0</td>\n",
       "      <td>1</td>\n",
       "      <td>0</td>\n",
       "    </tr>\n",
       "  </tbody>\n",
       "</table>\n",
       "</div>"
      ],
      "text/plain": [
       "   No_Transactions  No_Orders  No_Payments  paymentMethodRegistrationFailure  \\\n",
       "0                2          2            1                               1.0   \n",
       "1                3          3            7                               0.0   \n",
       "2                5          3            2                               0.0   \n",
       "3                3          3            1                               0.0   \n",
       "4                7          7            6                               0.0   \n",
       "\n",
       "   transactionAmount  transactionFailed  apple pay  bitcoin  card  paypal  \\\n",
       "0               18.0                0.0          0        0     1       0   \n",
       "1               45.0                0.0          0        1     0       0   \n",
       "2               33.0                0.0          0        0     1       0   \n",
       "3               34.0                0.0          0        0     1       0   \n",
       "4               71.0                0.0          0        0     1       0   \n",
       "\n",
       "   failed  fulfilled  pending  \n",
       "0       0          0        1  \n",
       "1       0          1        0  \n",
       "2       1          0        0  \n",
       "3       0          1        0  \n",
       "4       0          1        0  "
      ]
     },
     "execution_count": 77,
     "metadata": {},
     "output_type": "execute_result"
    }
   ],
   "source": [
    "H8.head()"
   ]
  },
  {
   "cell_type": "code",
   "execution_count": 78,
   "metadata": {},
   "outputs": [
    {
     "data": {
      "text/plain": [
       "LogisticRegression()"
      ]
     },
     "execution_count": 78,
     "metadata": {},
     "output_type": "execute_result"
    }
   ],
   "source": [
    "from sklearn.linear_model import LogisticRegression\n",
    "Y = H7.Fraud\n",
    "X_train, X_test, y_train, y_test = train_test_split(X_standard, Y, test_size=0.2, random_state=1)\n",
    "from sklearn import metrics\n",
    "LG = LogisticRegression()\n",
    "LG.fit(X_train, y_train)"
   ]
  },
  {
   "cell_type": "code",
   "execution_count": 79,
   "metadata": {},
   "outputs": [
    {
     "name": "stdout",
     "output_type": "stream",
     "text": [
      "test accuracy : 0.7142857142857143\n"
     ]
    }
   ],
   "source": [
    "print(\"test accuracy :\", LG.score(X_test,y_test))"
   ]
  },
  {
   "cell_type": "code",
   "execution_count": 80,
   "metadata": {},
   "outputs": [
    {
     "data": {
      "text/plain": [
       "LogisticRegression()"
      ]
     },
     "execution_count": 80,
     "metadata": {},
     "output_type": "execute_result"
    }
   ],
   "source": [
    "#Used PCA\n",
    "X_train1, X_test1, y_train1, y_test1 = train_test_split(X_PCA, Y, test_size=0.2, random_state=1)\n",
    "from sklearn import metrics\n",
    "LG = LogisticRegression()\n",
    "LG.fit(X_train1, y_train1)"
   ]
  },
  {
   "cell_type": "code",
   "execution_count": 81,
   "metadata": {},
   "outputs": [
    {
     "name": "stdout",
     "output_type": "stream",
     "text": [
      "test accuracy : 0.7142857142857143\n"
     ]
    }
   ],
   "source": [
    "#Pretty much useless\n",
    "print(\"test accuracy :\", LG.score(X_test1,y_test1))"
   ]
  },
  {
   "cell_type": "code",
   "execution_count": null,
   "metadata": {},
   "outputs": [],
   "source": []
  }
 ],
 "metadata": {
  "kernelspec": {
   "display_name": "Python 3",
   "language": "python",
   "name": "python3"
  },
  "language_info": {
   "codemirror_mode": {
    "name": "ipython",
    "version": 3
   },
   "file_extension": ".py",
   "mimetype": "text/x-python",
   "name": "python",
   "nbconvert_exporter": "python",
   "pygments_lexer": "ipython3",
   "version": "3.7.6"
  }
 },
 "nbformat": 4,
 "nbformat_minor": 4
}
